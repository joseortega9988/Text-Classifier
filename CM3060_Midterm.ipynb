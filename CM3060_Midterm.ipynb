{
 "cells": [
  {
   "cell_type": "markdown",
   "id": "b7ee74c1",
   "metadata": {},
   "source": [
    "# Text Classifier"
   ]
  },
  {
   "cell_type": "markdown",
   "id": "5ec749df",
   "metadata": {},
   "source": [
    "## Introduction"
   ]
  },
  {
   "cell_type": "markdown",
   "id": "ba323012",
   "metadata": {},
   "source": [
    "In this coursework, we explore the implementation of a text classifier for sentiment analysis, particularly in the context of the film industry. The rapid expansion of social media and online review platforms has made gauging a movie's quality more challenging. With a wide range of film preferences among audiences, it becomes difficult to judge the merit of new movie releases, often leading to a fear of missing out (FOMO) among viewers.\n",
    "\n",
    "Additionally, considering the rising costs of living, choosing to spend on a cinema experience is a significant decision. The disappointment of watching an unsatisfactory film after spending money can be quite disheartening.\n",
    "\n",
    "In response to these challenges, we suggest creating an advanced text classification tool. This solution is designed to leverage sentiment analysis for interpreting movie reviews. The goal is to provide a more balanced and financially savvy way to assess films."
   ]
  },
  {
   "cell_type": "markdown",
   "id": "297a5554",
   "metadata": {},
   "source": [
    "### Goals\n",
    "\n",
    "This report addresses the challenge of developing a text classifier capable of discerning the general sentiment in movie reviews.\n",
    "\n",
    "Therefore, the primary aim is to:\n",
    "\n",
    "To accurately categorize movie reviews with positive or negative tags."
   ]
  },
  {
   "cell_type": "markdown",
   "id": "276d96c1",
   "metadata": {},
   "source": [
    "\n",
    "### Data Source\n",
    "\n",
    "\n",
    "- **Dataset**: Large Movie Review Dataset\n",
    "- **Source**: Stanford AI Lab\n",
    "- **URL**: [https://ai.stanford.edu/~amaas/data/sentiment/](https://ai.stanford.edu/~amaas/data/sentiment/)\n",
    "- **Reference Paper**: \"Learning Word Vectors for Sentiment Analysis\"\n",
    "- **Authors**: Andrew L. Maas, Raymond E. Daly, Peter T. Pham, Dan Huang, Andrew Y. Ng, Christopher Potts\n",
    "- **Paper URL**: [https://aclanthology.org/P11-1015/](https://aclanthology.org/P11-1015/)\n",
    "- **Conference**: ACL 2011\n",
    "\n",
    "\n",
    "This comprehensive dataset encompasses an extensive array of movie reviews, specifically designed for binary sentiment analysis tasks.\n",
    "\n",
    "The dataset contains 100,000 movie reviews in total.. The collection is split into two groups: 25,000 reviews for training and another 25,000 for testing, along with 50,000 unlabelled reviews intended for unsupervised learning methods.\n",
    "\n",
    "As our text classifier's primary goal is to assign binary labels (positive or negative) to each review, this analysis will focus exclusively on the labelled reviews, in line with the supervised nature of our task.\n",
    "\n",
    "The dataset is organized into two principal directories, one each for the labelled training and testing sets. Within these, there are further subdivisions into two categories: one for positive reviews and the other for negative reviews.\n",
    "\n",
    "**File Naming Convention:**\n",
    "\n",
    "Each movie review is stored in a text file (.txt). The naming convention used is: \"[id]_[rating].txt\".\n",
    "\n",
    "**Rating System Explanation:**\n",
    "\n",
    "The ratings are derived from IMDB scores. \n",
    "- Reviews scoring 4 or lower are labeled as negative.\n",
    "- Reviews with a score of 7 or higher are marked as positive.\n",
    "- Reviews with scores of 5 or 6 are not included, as they are considered neutral or unclear in sentiment.\n",
    "\n",
    "The data collection process involved web scraping from the IMDB website. Each movie review was extracted using its unique ID and corresponding webpage. The dataset also includes URLs for these movies in a urls.txt file, located in the respective test/train folders."
   ]
  },
  {
   "cell_type": "markdown",
   "id": "32d6b3fb",
   "metadata": {},
   "source": [
    "#### Revised Evaluation Approach\n",
    "\n",
    "In advancing our text classifier's ability to discern movie review sentiments, we employ several pivotal performance metrics:\n",
    "\n",
    "**Confusion Matrix**\n",
    "We further utilize the confusion matrix to display the model's predictions against actual values, offering detailed insight into its predictive capabilities.\n",
    "\n",
    "**F-1 Score**\n",
    "The F-1 Score harmonizes precision and recall into one metric:\n",
    "$$ F1 = 2 \\times \\frac{Precision \\times Recall}{Precision + Recall} $$\n",
    "\n",
    "Our model's emphasis is on a strong recall to ensure comprehensive capture of expressed sentiments. To illustrate, consider the accuracy of the model in classifying truly favorable films.\n",
    "\n",
    "We also focus on the **F-2 Score**, which gives more weight to recall:\n",
    "$$ F2 = 5 \\times \\frac{Precision \\times Recall}{(4 \\times Precision) + Recall} $$\n",
    "\n",
    "**Recall**\n",
    "Also known as sensitivity, this measures how well the model identifies actual positives:\n",
    "$$ Recall = \\frac{True\\ Positives}{True\\ Positives + False\\ Negatives} $$\n",
    "\n",
    "**Accuracy**\n",
    "The overall accuracy reflects the proportion of correct predictions made by the model:\n",
    "$$ Accuracy = \\frac{True\\ Positives + True\\ Negatives}{Total\\ Predictions} $$\n",
    "\n",
    "With an emphasis on the F-2 Score and scrutinizing accuracy and confusion matrix details, we aim to refine sentiment analysis to guide viewers effectively.\n",
    "\n",
    "**Precision**\n",
    "This metric gauges the accuracy of positive predictions, calculated as:\n",
    "$$ Precision = \\frac{True\\ Positives}{True\\ Positives + False\\ Positives} $$\n",
    "\n",
    "\n",
    "\n",
    "\n"
   ]
  },
  {
   "cell_type": "markdown",
   "id": "f3b0ae74",
   "metadata": {},
   "source": [
    "## (2) : Implementation"
   ]
  },
  {
   "cell_type": "markdown",
   "id": "7c6baaea",
   "metadata": {},
   "source": [
    "### Data Retrieval"
   ]
  },
  {
   "cell_type": "markdown",
   "id": "c027c39e",
   "metadata": {},
   "source": [
    "The first step involves processing the  <b>Large Movie Review Dataset</b> which is stored locally on the machine."
   ]
  },
  {
   "cell_type": "markdown",
   "id": "f619cdc2",
   "metadata": {},
   "source": [
    "In case the required modules are not present in the Python environment, you can install them here in the next cell "
   ]
  },
  {
   "cell_type": "code",
   "execution_count": null,
   "id": "829cb4b0",
   "metadata": {},
   "outputs": [],
   "source": [
    "!pip install nltk\n",
    "!pip install pandas\n",
    "!pip install numpy\n",
    "!pip install gensim\n",
    "!pip install imbalanced-learn"
   ]
  },
  {
   "cell_type": "markdown",
   "id": "8672ebab",
   "metadata": {},
   "source": [
    "###  Importing all necessary modules and libraries."
   ]
  },
  {
   "cell_type": "code",
   "execution_count": 1,
   "id": "ff4071f3",
   "metadata": {},
   "outputs": [],
   "source": [
    "import glob\n",
    "import numpy as np\n",
    "import nltk\n",
    "import re\n",
    "import glob\n",
    "import pandas as pd\n",
    "\n",
    "\n",
    "from sklearn.model_selection import train_test_split\n",
    "from sklearn.utils import shuffle\n",
    "\n",
    "import matplotlib.pyplot as plt\n",
    "\n",
    "from nltk.corpus import stopwords\n",
    "from nltk.stem import WordNetLemmatizer\n",
    "from nltk.tokenize import word_tokenize\n",
    "\n",
    "import gensim\n",
    "from gensim.models import Word2Vec\n",
    "\n",
    "# Load necessary modules from sklearn for logistic regression and its functionalities\n",
    "from sklearn.metrics import precision_score, fbeta_score , recall_score\n",
    "\n",
    "from sklearn.linear_model import LogisticRegression\n",
    "\n",
    "from sklearn.feature_extraction.text import CountVectorizer\n",
    "\n",
    "from sklearn import svm\n",
    "from sklearn.feature_extraction.text import TfidfVectorizer\n",
    "\n"
   ]
  },
  {
   "cell_type": "code",
   "execution_count": 2,
   "id": "50ef5be3",
   "metadata": {},
   "outputs": [
    {
     "name": "stderr",
     "output_type": "stream",
     "text": [
      "[nltk_data] Downloading package wordnet to\n",
      "[nltk_data]     C:\\Users\\j\\AppData\\Roaming\\nltk_data...\n",
      "[nltk_data]   Package wordnet is already up-to-date!\n",
      "[nltk_data] Downloading package omw to\n",
      "[nltk_data]     C:\\Users\\j\\AppData\\Roaming\\nltk_data...\n",
      "[nltk_data]   Package omw is already up-to-date!\n"
     ]
    },
    {
     "data": {
      "text/plain": [
       "True"
      ]
     },
     "execution_count": 2,
     "metadata": {},
     "output_type": "execute_result"
    }
   ],
   "source": [
    "# Download the WordNet corpus\n",
    "nltk.download('wordnet')\n",
    "\n",
    "# Download the Open Multilingual WordNet (OMW) corpus\n",
    "nltk.download('omw')"
   ]
  },
  {
   "cell_type": "code",
   "execution_count": 3,
   "id": "211598e6",
   "metadata": {},
   "outputs": [],
   "source": [
    "# Function parse_reviews - Process each text file in the provided list and compile their contents into a list\n",
    "def parse_reviews(file_list):\n",
    "    list_review = [open(file, 'r', encoding='utf-8').read() for file in file_list]\n",
    "    return list_review\n",
    "\n",
    "# Function extract_scores_from_filenames - Analyze each file's full path to obtain the numerical score from its filename\n",
    "# For instance, in the filename \"dataset/train/neg\\0_3.txt\":\n",
    "# Split using \"\\\\\" to isolate '0_3.txt'\n",
    "# Further split using \"_\" to separate '0' and '3.txt'\n",
    "# Finally, split using \".\" to extract the score '3' from '3.txt'\n",
    "# The extracted score represents a rating out of 10\n",
    "def extract_scores_from_filenames(file_list):\n",
    "    list_of_scores = []\n",
    "\n",
    "    for file in file_list:\n",
    "        split_filename = file.split('\\\\')\n",
    "        tokens_from_filename = split_filename[1].split('_')\n",
    "        score_from_filename = tokens_from_filename[1].split('.')\n",
    "\n",
    "        list_of_scores.append(score_from_filename[0])\n",
    "        \n",
    "    return list_of_scores\n"
   ]
  },
  {
   "cell_type": "code",
   "execution_count": 4,
   "id": "16574119",
   "metadata": {},
   "outputs": [],
   "source": [
    "# Load negative reviews from a specified directory using pandas' read_csv function\n",
    "negative_reviews_directory = \"dataset/train/neg\"\n",
    "\n",
    "# Retrieve all file paths in the negative reviews directory with .txt extension using glob\n",
    "file_list = glob.glob(negative_reviews_directory + \"/*.txt\")\n"
   ]
  },
  {
   "cell_type": "markdown",
   "id": "f6c3126d",
   "metadata": {},
   "source": [
    "### Data Samples View"
   ]
  },
  {
   "cell_type": "code",
   "execution_count": 5,
   "id": "e74c0f79",
   "metadata": {
    "scrolled": true
   },
   "outputs": [
    {
     "name": "stdout",
     "output_type": "stream",
     "text": [
      "                                   content_of_the_review score_of_film  \\\n",
      "10446  \"Don't Drink the Water\" is an unbelievably bad...             2   \n",
      "8886   This mess is so bad it doesn't even qualify as...             2   \n",
      "2673   The Treasure Island DVD should be required vie...             2   \n",
      "12008  I'll try to use words to describe this on.... ...             1   \n",
      "2353   In 1972, after his wife left to go her own way...             4   \n",
      "8692   (Avast, slight spoilers ahead) I got this tape...             4   \n",
      "11531  There's no getting around it-- this movie is t...             4   \n",
      "5947   'Dead Letter Office' is a low-budget film abou...             4   \n",
      "10926  Well, I guess I'll have to be the one to say \"...             4   \n",
      "12406  When Stanwyck's husband-to-be is murdered on t...             3   \n",
      "129    I honestly want the last 30 minuets of my life...             1   \n",
      "498    This is not a film you can really analyse sepa...             4   \n",
      "9802   This movie is a vehicle for Schwarzenegger-clo...             2   \n",
      "11979  So this guy named George is sitting home alone...             3   \n",
      "2323   Well, the artyfartyrati of Cannes may have lik...             3   \n",
      "\n",
      "      sentiment  \n",
      "10446       neg  \n",
      "8886        neg  \n",
      "2673        neg  \n",
      "12008       neg  \n",
      "2353        neg  \n",
      "8692        neg  \n",
      "11531       neg  \n",
      "5947        neg  \n",
      "10926       neg  \n",
      "12406       neg  \n",
      "129         neg  \n",
      "498         neg  \n",
      "9802        neg  \n",
      "11979       neg  \n",
      "2323        neg  \n"
     ]
    }
   ],
   "source": [
    "\n",
    "# Use parse_reviews function to process the files and add their content to a dataframe\n",
    "list_review = parse_reviews(file_list)\n",
    "\n",
    "# Use extract_scores_from_filenames function to retrieve film ratings (?/10) and add them to a list and the dataframe\n",
    "list_of_scores = extract_scores_from_filenames(file_list)\n",
    "\n",
    "# Label each data entry as negative\n",
    "negative_reviews = pd.DataFrame({'content_of_the_review': list_review, 'score_of_film': list_of_scores, 'sentiment': \"neg\"})\n",
    "\n",
    "# Randomly pick 15 entries from the DataFrame\n",
    "random_negative_reviews = negative_reviews.sample(15)\n",
    "\n",
    "# Show the chosen entries\n",
    "print(random_negative_reviews)\n"
   ]
  },
  {
   "cell_type": "code",
   "execution_count": 6,
   "id": "445ba4d8",
   "metadata": {},
   "outputs": [],
   "source": [
    "#  variable naming for positive reviews\n",
    "positive_reviews_directory = \"dataset/train/pos\"\n",
    "\n",
    "file_list = glob.glob(positive_reviews_directory + '/*.txt')"
   ]
  },
  {
   "cell_type": "code",
   "execution_count": 7,
   "id": "b7cc92eb",
   "metadata": {
    "scrolled": true
   },
   "outputs": [
    {
     "name": "stdout",
     "output_type": "stream",
     "text": [
      "                                   content_of_the_review score_of_film  \\\n",
      "436    Let's cut a long story short. I loved every mi...             9   \n",
      "7519   I came to watch Guerrilla, part two of Steven ...             8   \n",
      "2564   There's never a dull moment in this movie. Won...            10   \n",
      "5976   It's a cooking competition show, Americanized....            10   \n",
      "1576   Claire Denis' debut is both a brave and self-a...            10   \n",
      "3000   Excellent political thriller, played much quie...             8   \n",
      "5189   This movie is a must-see movie for all. Congre...            10   \n",
      "5484   Greetings again from the darkness. 18 director...             7   \n",
      "10849  The cast was good, and I thought it was a good...             8   \n",
      "806    To my surprise I quite enjoyed 'Spacecamp', i ...             7   \n",
      "6289   <br /><br />In anticipation of Ang Lee's new m...            10   \n",
      "4437   Remarkable, disturbing film about the true-lif...            10   \n",
      "931    I spotted this movie in the video store a few ...            10   \n",
      "553    Mario's first foray into the world of 3-dimens...            10   \n",
      "4854   \"The Bourne Ultimatum\" begins recklessly mid-c...             8   \n",
      "\n",
      "      sentiment  \n",
      "436         pos  \n",
      "7519        pos  \n",
      "2564        pos  \n",
      "5976        pos  \n",
      "1576        pos  \n",
      "3000        pos  \n",
      "5189        pos  \n",
      "5484        pos  \n",
      "10849       pos  \n",
      "806         pos  \n",
      "6289        pos  \n",
      "4437        pos  \n",
      "931         pos  \n",
      "553         pos  \n",
      "4854        pos  \n"
     ]
    }
   ],
   "source": [
    "# Parse reviews from the provided list of files\n",
    "list_review = parse_reviews(file_list)\n",
    "\n",
    "# Retrieve scores by analyzing filenames in the list\n",
    "list_of_scores = extract_scores_from_filenames(file_list)\n",
    "\n",
    "# Create a DataFrame with positive reviews, including content, film scores, and sentiment label\n",
    "positive_reviews = pd.DataFrame({'content_of_the_review': list_review, 'score_of_film': list_of_scores, 'sentiment': \"pos\"})\n",
    "\n",
    "# Randomly choose 15 entries from the DataFrame\n",
    "random_positive_reviews = positive_reviews.sample(15)\n",
    "\n",
    "# Output the randomly selected entries\n",
    "print(random_positive_reviews)\n"
   ]
  },
  {
   "cell_type": "markdown",
   "id": "19a237e5",
   "metadata": {},
   "source": [
    "### Dataframe size comparison"
   ]
  },
  {
   "cell_type": "markdown",
   "id": "305a125d",
   "metadata": {},
   "source": [
    "Now we will visualize the size of the data by plotting it."
   ]
  },
  {
   "cell_type": "code",
   "execution_count": 8,
   "id": "5f4e49c9",
   "metadata": {},
   "outputs": [
    {
     "data": {
      "image/png": "[encoded data removed]",
      "text/plain": [
       "<Figure size 640x480 with 1 Axes>"
      ]
     },
     "metadata": {},
     "output_type": "display_data"
    }
   ],
   "source": [
    "dataplot = pd.DataFrame(\n",
    "    {\"dataset_size\": [len(positive_reviews.index), len(negative_reviews.index)]},\n",
    "        index=[\"Positive Reviews\", \"Negative Reviews\"])\n",
    "\n",
    "# Create a pie chart for visualizing the proportions\n",
    "dataplot.plot(kind=\"pie\", y='dataset_size', autopct='%1.1f%%', startangle=90, legend=True)\n",
    "plt.title(\"Proportion of Positive vs Negative Reviews in the Dataset\")\n",
    "plt.ylabel('')  # Removing the y-axis label\n",
    "plt.legend(loc='lower left', bbox_to_anchor=(0.7, 0.7))\n",
    "# Show the pie chart on screen\n",
    "plt.show()\n"
   ]
  },
  {
   "cell_type": "code",
   "execution_count": 9,
   "id": "cfadd4a4",
   "metadata": {},
   "outputs": [
    {
     "data": {
      "image/png": "[encoded data removed]",
      "text/plain": [
       "<Figure size 640x480 with 1 Axes>"
      ]
     },
     "metadata": {},
     "output_type": "display_data"
    }
   ],
   "source": [
    "# Plotting a bar chart\n",
    "ax = dataplot.plot(kind=\"bar\", legend=False, color=['green', 'red'])\n",
    "plt.title(\"Number of Positive and Negative Reviews\")\n",
    "plt.ylabel('Number of Reviews')\n",
    "\n",
    "# Rotating x-axis labels to horizontal\n",
    "ax.set_xticklabels(ax.get_xticklabels(), rotation=0)\n",
    "\n",
    "# Adding the text inside the bars\n",
    "for p in ax.patches:\n",
    "    ax.annotate(str(p.get_height()), (p.get_x() * 1.005, p.get_height() * 1.005))\n",
    "\n",
    "# Display the bar chart\n",
    "plt.show()"
   ]
  },
  {
   "cell_type": "markdown",
   "id": "4a986bd5",
   "metadata": {},
   "source": [
    "As illustrated in the chart, both the positive and negative review dataframes have an equal count of 12,500 entries, confirming their balanced presence in the dataset.\n",
    "\n",
    "Having a balanced dataset is crucial as it eliminates any skewness towards any category in our data, ensuring impartiality across all classes."
   ]
  },
  {
   "cell_type": "markdown",
   "id": "b73775b4",
   "metadata": {},
   "source": [
    "### Preprocessing"
   ]
  },
  {
   "cell_type": "markdown",
   "id": "43f21425",
   "metadata": {},
   "source": [
    "After a thorough analysis of the data frames, I've decided to employ a Continuous Bag of Words (CBoW) model to represent the word patterns within the positive and negative datasets.\n",
    "\n",
    "This particular model was chosen over the conventional Bag of Words (BoW) approach due to its ability to capture the contextual nuances of language. While BoW views each word as an independent entity, disregarding word order, CBoW acknowledges the importance of word sequence and how it shapes meaning within sentences. This sensitivity to context is essential for achieving accurate results in our binary classification endeavor."
   ]
  },
  {
   "cell_type": "markdown",
   "id": "73f53acf",
   "metadata": {},
   "source": [
    "##### Preprocessing Text for Word2Vec Model using Gensim Library\n",
    "\n",
    "##### Introduction:\n",
    "From the gensim library the model will use the Word2Vec algorithm for the build of a Continuous Bag of Words representation. \n",
    "For optimal model training, the text requires thorough preprocessing. \n",
    "The steps involved in preprocessing are crucial for effective training of the model.\n",
    "\n",
    "##### Preprocessing Steps:\n",
    "\n",
    "1. Tokenization\n",
    "   - Dissect the text into individual words or phrases (tokens).\n",
    "\n",
    "2. Stopword Removal\n",
    "   - Remove common words with little meaning (e.g., \"the\", \"a\") to focus on more meaningful content.\n",
    "\n",
    "3. Character Filtering\n",
    "   - Eliminate special characters and digits to concentrate on the language structure.\n",
    "\n",
    "4. Case Normalization\n",
    "   - Convert all text to lowercase for consistency and to avoid duplicates.\n",
    "\n",
    "5. Lemmatization\n",
    "   - Reduce words to their base or dictionary forms (lemmas), considering the context for accurate meaning.\n",
    "\n",
    "6. Feature Scaling\n",
    "   - Normalize word frequencies to prevent bias towards common words, ensuring balanced analysis.\n",
    "\n",
    "##### Summary of Steps:\n",
    "preprocessing_steps = [\"Tokenization\", \"Stopword Removal\", \"Character Filtering\", \n",
    "                       \"Case Normalization\", \"Lemmatization\", \"Feature Scaling\"]\n",
    "\n"
   ]
  },
  {
   "cell_type": "code",
   "execution_count": 10,
   "id": "50d736a6",
   "metadata": {},
   "outputs": [],
   "source": [
    "def text_preprocessed(content_of_text):\n",
    "    # Set up the WordNet lemmatizer for later use\n",
    "    lemma = WordNetLemmatizer()\n",
    "    \n",
    "    # Employ regular expressions to eliminate special characters and numbers\n",
    "    content_of_text = re.sub('[^a-zA-Z]', ' ', content_of_text)\n",
    "\n",
    "    # Convert text to lowercase for uniformity and split into words\n",
    "    content_of_text = content_of_text.lower()\n",
    "    token_w = word_tokenize(content_of_text)\n",
    "\n",
    "    # Use lemmatization to distill words to their base form\n",
    "    # ltoken_w = [lemma.lemmatize(w_token) for w_token in token_w]\n",
    "    \n",
    "    # Execute the function to eliminate noisewords\n",
    "    text_preprocessed = removal_of_words (token_w)\n",
    "\n",
    "    return text_preprocessed\n",
    "\n",
    "def removal_of_words (content_of_text):\n",
    "    # Define the set of English stopwords\n",
    "    noise_words = set(stopwords.words('english'))\n",
    "\n",
    "    # Filter out the stopwords using a filter function and lambda expression\n",
    "    tokens_fill = list(filter(lambda word: word not in noise_words, content_of_text))\n",
    "    \n",
    "    # Concatenate the processed tokens back into a single string\n",
    "    string_fill = ' '.join(tokens_fill)\n",
    "    return string_fill\n"
   ]
  },
  {
   "cell_type": "markdown",
   "id": "9e93d1e1",
   "metadata": {},
   "source": [
    "### The splitting of data "
   ]
  },
  {
   "cell_type": "markdown",
   "id": "71ab03e3",
   "metadata": {},
   "source": [
    "To ensure a fair and unbiased learning experience, we'll first shuffle the data like a well-mixed deck of cards. This prevents the model from developing preferences for certain patterns based on their original order.\n",
    "\n",
    "We'll then strategically divide the 25,000 reviews into two distinct groups: a dedicated training squad comprising 80% of the data (20,000 reviews), and a vigilant testing team encompassing the remaining 20% (5,000 reviews). This division will be carried out randomly, aligning with the initial randomization process."
   ]
  },
  {
   "cell_type": "code",
   "execution_count": 11,
   "id": "15da4fa7",
   "metadata": {},
   "outputs": [],
   "source": [
    "# Initialize a new DataFrame for processing the text data\n",
    "data_frame_process = pd.DataFrame()\n",
    "\n",
    "# Combine positive and negative review data into the new DataFrame\n",
    "data_frame_process = pd.concat([positive_reviews, negative_reviews])\n",
    "\n",
    "# Randomize the order of entries and refresh their indices\n",
    "data_frame_process = shuffle(data_frame_process)\n",
    "data_frame_process.reset_index(inplace=True, drop=True)\n",
    "\n",
    "# Separate the review contents and their associated sentiment labels\n",
    "x_data_features = data_frame_process['content_of_the_review']\n",
    "y_data_labels = data_frame_process['sentiment']\n"
   ]
  },
  {
   "cell_type": "code",
   "execution_count": 12,
   "id": "a923a513",
   "metadata": {},
   "outputs": [
    {
     "name": "stdout",
     "output_type": "stream",
     "text": [
      "content_of_the_review: 25000\n",
      "score_of_film: 25000\n",
      "sentiment: 25000\n"
     ]
    }
   ],
   "source": [
    "for column in data_frame_process.columns:\n",
    "    print(f\"{column}: {data_frame_process[column].notnull().sum()}\")\n"
   ]
  },
  {
   "cell_type": "code",
   "execution_count": 13,
   "id": "8ed58943",
   "metadata": {
    "scrolled": true
   },
   "outputs": [
    {
     "name": "stdout",
     "output_type": "stream",
     "text": [
      "Sizes of Split Datasets\n",
      "y_train:  (20000,)\n",
      "y_test:  (5000,)\n",
      "X_train:  (20000,)\n",
      "X_test:  (5000,)\n"
     ]
    }
   ],
   "source": [
    "# Divide the dataset into training and testing subsets with a ratio of 80% for training and 20% for testing\n",
    "X_train, X_test, y_train, y_test = train_test_split(x_data_features, y_data_labels, test_size=0.20, random_state=1)\n",
    "\n",
    "# Ensure the training set contains 20,000 samples and the testing set contains 5,000 samples.\n",
    "print('Sizes of Split Datasets')\n",
    "print('y_train: ', y_train.shape)\n",
    "print('y_test: ', y_test.shape)\n",
    "print('X_train: ', X_train.shape)\n",
    "print('X_test: ', X_test.shape)\n",
    "\n"
   ]
  },
  {
   "cell_type": "code",
   "execution_count": 14,
   "id": "a0a703d2",
   "metadata": {},
   "outputs": [],
   "source": [
    "dataframe_X_train = pd.DataFrame()\n",
    "\n",
    "# Transform each text in X_train using the preprocessing function\n",
    "dataframe_X_train['processed_review'] = X_train.apply(text_preprocessed)\n",
    "\n",
    "# Convert the processed reviews column into a list\n",
    "dataframe_X_train = dataframe_X_train['processed_review'].tolist()\n"
   ]
  },
  {
   "cell_type": "code",
   "execution_count": 15,
   "id": "8b3f250a",
   "metadata": {},
   "outputs": [
    {
     "name": "stdout",
     "output_type": "stream",
     "text": [
      "Feature Vector Length:  150\n"
     ]
    }
   ],
   "source": [
    "# Create a list of word lists from the processed reviews, suitable for Word2Vec\n",
    "review_words = [word_tokenize(review) for review in dataframe_X_train]\n",
    "\n",
    "# Set up the Word2Vec model with default training algorithm (CBOW), and train it with our review tokens\n",
    "word_model  = Word2Vec(sentences=review_words, min_count=1, vector_size=150, workers=6, window=5, cbow_mean=1)\n",
    "\n",
    "# Determine the dimensionality of the word vectors; this is needed for later stages of model training\n",
    "feature_count = word_model .vector_size\n",
    "print(\"Feature Vector Length: \", feature_count)\n"
   ]
  },
  {
   "cell_type": "markdown",
   "id": "70086a71",
   "metadata": {},
   "source": [
    "### Reference Benchmark Model"
   ]
  },
  {
   "cell_type": "markdown",
   "id": "e7bcdad0",
   "metadata": {},
   "source": [
    "#### Establishing a Baseline with Logistic Regression\n",
    "\n",
    "##### First Steps:\n",
    "We first harnessed Logistic Regression, feeding it the carefully prepared CBoW text format.\n",
    "\n",
    "#### Why Logistic Regression?\n",
    "The selection of Logistic Regression as our foundational model is based on several reasons:\n",
    "1. Its simplicity in terms of implementation and training.\n",
    "2. Its effectiveness in scenarios where the outcomes can be clearly separated linearly.\n",
    "\n",
    "#### Execution Process:\n",
    "The process to execute this includes:\n",
    "1. Creating word vectors using our previously established CBoW model.\n",
    "2. Setting up and training a Logistic Regression model with scikit-learn.\n",
    "3. Conducting baseline predictions.\n",
    "4. Assessing the model's performance metrics.\n"
   ]
  },
  {
   "cell_type": "markdown",
   "id": "1ae5d16c",
   "metadata": {},
   "source": [
    "### Word Embeddings"
   ]
  },
  {
   "cell_type": "code",
   "execution_count": 16,
   "id": "408718ef",
   "metadata": {
    "scrolled": false
   },
   "outputs": [],
   "source": [
    "# Generate a Word Vector using the average of word vectors in each review\n",
    "X_train_word_embeddings =np.array([np.mean([word_model.wv[word] for word in review if word in word_model.wv], axis=0) for review in review_words])\n"
   ]
  },
  {
   "cell_type": "markdown",
   "id": "2d888de1",
   "metadata": {},
   "source": [
    "When attempting to create word vectors for the X_test data (comprising 20% of the dataset), a ValueError arose due to Python's attempt to accommodate the entire sequence within the X_test_word_embeddings array. This challenge was effectively circumvented by constructing an empty numpy array, meticulously crafted to mirror the dimensions of \"dataset length * vector_size\"."
   ]
  },
  {
   "cell_type": "code",
   "execution_count": 17,
   "id": "91839efb",
   "metadata": {},
   "outputs": [],
   "source": [
    "# Initializing a zero matrix for word vectors based on the test dataset\n",
    "X_test_word_embeddings = np.zeros((len(X_test), 150))\n",
    "\n",
    "# Creating and assigning the average word vectors for each review in the test set\n",
    "X_test_word_embeddings = np.array([\n",
    "    np.mean([word_model.wv[word] for word in review.split() if word in word_model.wv] or [np.zeros(150)], axis=0)\n",
    "    for review in X_test\n",
    "])  \n"
   ]
  },
  {
   "cell_type": "code",
   "execution_count": 18,
   "id": "c18f018b",
   "metadata": {},
   "outputs": [
    {
     "data": {
      "text/html": [
       "<style>#sk-container-id-1 {color: black;background-color: white;}#sk-container-id-1 pre{padding: 0;}#sk-container-id-1 div.sk-toggleable {background-color: white;}#sk-container-id-1 label.sk-toggleable__label {cursor: pointer;display: block;width: 100%;margin-bottom: 0;padding: 0.3em;box-sizing: border-box;text-align: center;}#sk-container-id-1 label.sk-toggleable__label-arrow:before {content: \"▸\";float: left;margin-right: 0.25em;color: #696969;}#sk-container-id-1 label.sk-toggleable__label-arrow:hover:before {color: black;}#sk-container-id-1 div.sk-estimator:hover label.sk-toggleable__label-arrow:before {color: black;}#sk-container-id-1 div.sk-toggleable__content {max-height: 0;max-width: 0;overflow: hidden;text-align: left;background-color: #f0f8ff;}#sk-container-id-1 div.sk-toggleable__content pre {margin: 0.2em;color: black;border-radius: 0.25em;background-color: #f0f8ff;}#sk-container-id-1 input.sk-toggleable__control:checked~div.sk-toggleable__content {max-height: 200px;max-width: 100%;overflow: auto;}#sk-container-id-1 input.sk-toggleable__control:checked~label.sk-toggleable__label-arrow:before {content: \"▾\";}#sk-container-id-1 div.sk-estimator input.sk-toggleable__control:checked~label.sk-toggleable__label {background-color: #d4ebff;}#sk-container-id-1 div.sk-label input.sk-toggleable__control:checked~label.sk-toggleable__label {background-color: #d4ebff;}#sk-container-id-1 input.sk-hidden--visually {border: 0;clip: rect(1px 1px 1px 1px);clip: rect(1px, 1px, 1px, 1px);height: 1px;margin: -1px;overflow: hidden;padding: 0;position: absolute;width: 1px;}#sk-container-id-1 div.sk-estimator {font-family: monospace;background-color: #f0f8ff;border: 1px dotted black;border-radius: 0.25em;box-sizing: border-box;margin-bottom: 0.5em;}#sk-container-id-1 div.sk-estimator:hover {background-color: #d4ebff;}#sk-container-id-1 div.sk-parallel-item::after {content: \"\";width: 100%;border-bottom: 1px solid gray;flex-grow: 1;}#sk-container-id-1 div.sk-label:hover label.sk-toggleable__label {background-color: #d4ebff;}#sk-container-id-1 div.sk-serial::before {content: \"\";position: absolute;border-left: 1px solid gray;box-sizing: border-box;top: 0;bottom: 0;left: 50%;z-index: 0;}#sk-container-id-1 div.sk-serial {display: flex;flex-direction: column;align-items: center;background-color: white;padding-right: 0.2em;padding-left: 0.2em;position: relative;}#sk-container-id-1 div.sk-item {position: relative;z-index: 1;}#sk-container-id-1 div.sk-parallel {display: flex;align-items: stretch;justify-content: center;background-color: white;position: relative;}#sk-container-id-1 div.sk-item::before, #sk-container-id-1 div.sk-parallel-item::before {content: \"\";position: absolute;border-left: 1px solid gray;box-sizing: border-box;top: 0;bottom: 0;left: 50%;z-index: -1;}#sk-container-id-1 div.sk-parallel-item {display: flex;flex-direction: column;z-index: 1;position: relative;background-color: white;}#sk-container-id-1 div.sk-parallel-item:first-child::after {align-self: flex-end;width: 50%;}#sk-container-id-1 div.sk-parallel-item:last-child::after {align-self: flex-start;width: 50%;}#sk-container-id-1 div.sk-parallel-item:only-child::after {width: 0;}#sk-container-id-1 div.sk-dashed-wrapped {border: 1px dashed gray;margin: 0 0.4em 0.5em 0.4em;box-sizing: border-box;padding-bottom: 0.4em;background-color: white;}#sk-container-id-1 div.sk-label label {font-family: monospace;font-weight: bold;display: inline-block;line-height: 1.2em;}#sk-container-id-1 div.sk-label-container {text-align: center;}#sk-container-id-1 div.sk-container {/* jupyter's `normalize.less` sets `[hidden] { display: none; }` but bootstrap.min.css set `[hidden] { display: none !important; }` so we also need the `!important` here to be able to override the default hidden behavior on the sphinx rendered scikit-learn.org. See: https://github.com/scikit-learn/scikit-learn/issues/21755 */display: inline-block !important;position: relative;}#sk-container-id-1 div.sk-text-repr-fallback {display: none;}</style><div id=\"sk-container-id-1\" class=\"sk-top-container\"><div class=\"sk-text-repr-fallback\"><pre>LogisticRegression(max_iter=300)</pre><b>In a Jupyter environment, please rerun this cell to show the HTML representation or trust the notebook. <br />On GitHub, the HTML representation is unable to render, please try loading this page with nbviewer.org.</b></div><div class=\"sk-container\" hidden><div class=\"sk-item\"><div class=\"sk-estimator sk-toggleable\"><input class=\"sk-toggleable__control sk-hidden--visually\" id=\"sk-estimator-id-1\" type=\"checkbox\" checked><label for=\"sk-estimator-id-1\" class=\"sk-toggleable__label sk-toggleable__label-arrow\">LogisticRegression</label><div class=\"sk-toggleable__content\"><pre>LogisticRegression(max_iter=300)</pre></div></div></div></div></div>"
      ],
      "text/plain": [
       "LogisticRegression(max_iter=300)"
      ]
     },
     "execution_count": 18,
     "metadata": {},
     "output_type": "execute_result"
    }
   ],
   "source": [
    "logreg_model = LogisticRegression(solver='lbfgs',max_iter=300)\n",
    "logreg_model.fit(X_train_word_embeddings, y_train)"
   ]
  },
  {
   "cell_type": "code",
   "execution_count": 19,
   "id": "61e9dcea",
   "metadata": {},
   "outputs": [],
   "source": [
    "prediction_y = logreg_model.predict(X_test_word_embeddings)"
   ]
  },
  {
   "cell_type": "code",
   "execution_count": 20,
   "id": "dae676e0",
   "metadata": {},
   "outputs": [],
   "source": [
    "precision = precision_score(y_test, prediction_y, pos_label='pos')\n",
    "recall = recall_score(y_test, prediction_y, pos_label='pos')\n",
    "f2_score = fbeta_score(y_test, prediction_y, beta=2, pos_label='pos')\n"
   ]
  },
  {
   "cell_type": "markdown",
   "id": "3822fbe0",
   "metadata": {},
   "source": [
    "The decision to use a beta value of 2 in the F2 score calculation stems from the model's prioritization of recall over precision. This weighting reflects the model's design to place twice as much importance on identifying all positive instances, even if it means accepting a higher rate of false positives. This prioritization is evident in the confusion matrix below, which showcases the numbers of both false positives and true positives."
   ]
  },
  {
   "cell_type": "markdown",
   "id": "76b1295a",
   "metadata": {},
   "source": [
    "### Evaluating the Benchmark: Logistic Regression's Capabilities\n"
   ]
  },
  {
   "cell_type": "code",
   "execution_count": 21,
   "id": "fc4d21e0",
   "metadata": {},
   "outputs": [
    {
     "name": "stdout",
     "output_type": "stream",
     "text": [
      "===Logistic Regression Capabilities===\n",
      "The porcentage of the Recall is : 83.04%\n",
      "The porcentage of the Precision is :81.79%\n",
      "The porcentage of the F2-Score is : 82.79%\n"
     ]
    }
   ],
   "source": [
    "print(\"===Logistic Regression Capabilities===\")\n",
    "print('The porcentage of the Recall is : {:.2f}%'.format(recall * 100))\n",
    "print('The porcentage of the Precision is :{:.2f}%'.format(precision * 100))\n",
    "print('The porcentage of the F2-Score is : {:.2f}%'.format(f2_score * 100))"
   ]
  },
  {
   "cell_type": "markdown",
   "id": "6b51dcb6",
   "metadata": {},
   "source": [
    "### Classification Approach"
   ]
  },
  {
   "cell_type": "markdown",
   "id": "98d6979b",
   "metadata": {},
   "source": [
    "\n",
    "We've chosen a <b>Support Vector Machine (SVM)</b>classifier as our primary approach, as it offers several advantages over the baseline method. These benefits include:\n",
    "\n",
    "1. **Efficiency with Unstructured Data**: \n",
    "   SVM excels in handling unstructured and semi-structured data, like text, which is a challenge for models requiring well-defined variables.\n",
    "\n",
    "2. **Lower Risk of Overfitting**: \n",
    "   Thanks to its design, SVM is less prone to overfitting, a significant concern in text classification due to the high dimensionality.\n",
    "\n",
    "3. **Deterministic Approach**: \n",
    "   SVM offers a clear classification decision boundary, as opposed to probabilistic models, making it essential for distinct categorization in text data.\n",
    "\n",
    "4. **Kernel Flexibility**: \n",
    "   The ability of SVM to use various kernel functions allows it to adapt to different complexities found in text data.\n",
    "\n",
    "5. **Robustness in High-Dimensional Spaces**: \n",
    "   SVM is known for its strong performance in high-dimensional spaces, which is typical in text data due to large vocabularies.\n",
    "\n",
    "These strengths collectively render SVM as a robust and adaptable model for text classification tasks.\n"
   ]
  },
  {
   "cell_type": "code",
   "execution_count": 22,
   "id": "3d4c19b7",
   "metadata": {},
   "outputs": [
    {
     "data": {
      "text/html": [
       "<style>#sk-container-id-2 {color: black;background-color: white;}#sk-container-id-2 pre{padding: 0;}#sk-container-id-2 div.sk-toggleable {background-color: white;}#sk-container-id-2 label.sk-toggleable__label {cursor: pointer;display: block;width: 100%;margin-bottom: 0;padding: 0.3em;box-sizing: border-box;text-align: center;}#sk-container-id-2 label.sk-toggleable__label-arrow:before {content: \"▸\";float: left;margin-right: 0.25em;color: #696969;}#sk-container-id-2 label.sk-toggleable__label-arrow:hover:before {color: black;}#sk-container-id-2 div.sk-estimator:hover label.sk-toggleable__label-arrow:before {color: black;}#sk-container-id-2 div.sk-toggleable__content {max-height: 0;max-width: 0;overflow: hidden;text-align: left;background-color: #f0f8ff;}#sk-container-id-2 div.sk-toggleable__content pre {margin: 0.2em;color: black;border-radius: 0.25em;background-color: #f0f8ff;}#sk-container-id-2 input.sk-toggleable__control:checked~div.sk-toggleable__content {max-height: 200px;max-width: 100%;overflow: auto;}#sk-container-id-2 input.sk-toggleable__control:checked~label.sk-toggleable__label-arrow:before {content: \"▾\";}#sk-container-id-2 div.sk-estimator input.sk-toggleable__control:checked~label.sk-toggleable__label {background-color: #d4ebff;}#sk-container-id-2 div.sk-label input.sk-toggleable__control:checked~label.sk-toggleable__label {background-color: #d4ebff;}#sk-container-id-2 input.sk-hidden--visually {border: 0;clip: rect(1px 1px 1px 1px);clip: rect(1px, 1px, 1px, 1px);height: 1px;margin: -1px;overflow: hidden;padding: 0;position: absolute;width: 1px;}#sk-container-id-2 div.sk-estimator {font-family: monospace;background-color: #f0f8ff;border: 1px dotted black;border-radius: 0.25em;box-sizing: border-box;margin-bottom: 0.5em;}#sk-container-id-2 div.sk-estimator:hover {background-color: #d4ebff;}#sk-container-id-2 div.sk-parallel-item::after {content: \"\";width: 100%;border-bottom: 1px solid gray;flex-grow: 1;}#sk-container-id-2 div.sk-label:hover label.sk-toggleable__label {background-color: #d4ebff;}#sk-container-id-2 div.sk-serial::before {content: \"\";position: absolute;border-left: 1px solid gray;box-sizing: border-box;top: 0;bottom: 0;left: 50%;z-index: 0;}#sk-container-id-2 div.sk-serial {display: flex;flex-direction: column;align-items: center;background-color: white;padding-right: 0.2em;padding-left: 0.2em;position: relative;}#sk-container-id-2 div.sk-item {position: relative;z-index: 1;}#sk-container-id-2 div.sk-parallel {display: flex;align-items: stretch;justify-content: center;background-color: white;position: relative;}#sk-container-id-2 div.sk-item::before, #sk-container-id-2 div.sk-parallel-item::before {content: \"\";position: absolute;border-left: 1px solid gray;box-sizing: border-box;top: 0;bottom: 0;left: 50%;z-index: -1;}#sk-container-id-2 div.sk-parallel-item {display: flex;flex-direction: column;z-index: 1;position: relative;background-color: white;}#sk-container-id-2 div.sk-parallel-item:first-child::after {align-self: flex-end;width: 50%;}#sk-container-id-2 div.sk-parallel-item:last-child::after {align-self: flex-start;width: 50%;}#sk-container-id-2 div.sk-parallel-item:only-child::after {width: 0;}#sk-container-id-2 div.sk-dashed-wrapped {border: 1px dashed gray;margin: 0 0.4em 0.5em 0.4em;box-sizing: border-box;padding-bottom: 0.4em;background-color: white;}#sk-container-id-2 div.sk-label label {font-family: monospace;font-weight: bold;display: inline-block;line-height: 1.2em;}#sk-container-id-2 div.sk-label-container {text-align: center;}#sk-container-id-2 div.sk-container {/* jupyter's `normalize.less` sets `[hidden] { display: none; }` but bootstrap.min.css set `[hidden] { display: none !important; }` so we also need the `!important` here to be able to override the default hidden behavior on the sphinx rendered scikit-learn.org. See: https://github.com/scikit-learn/scikit-learn/issues/21755 */display: inline-block !important;position: relative;}#sk-container-id-2 div.sk-text-repr-fallback {display: none;}</style><div id=\"sk-container-id-2\" class=\"sk-top-container\"><div class=\"sk-text-repr-fallback\"><pre>SVC(kernel=&#x27;linear&#x27;)</pre><b>In a Jupyter environment, please rerun this cell to show the HTML representation or trust the notebook. <br />On GitHub, the HTML representation is unable to render, please try loading this page with nbviewer.org.</b></div><div class=\"sk-container\" hidden><div class=\"sk-item\"><div class=\"sk-estimator sk-toggleable\"><input class=\"sk-toggleable__control sk-hidden--visually\" id=\"sk-estimator-id-2\" type=\"checkbox\" checked><label for=\"sk-estimator-id-2\" class=\"sk-toggleable__label sk-toggleable__label-arrow\">SVC</label><div class=\"sk-toggleable__content\"><pre>SVC(kernel=&#x27;linear&#x27;)</pre></div></div></div></div></div>"
      ],
      "text/plain": [
       "SVC(kernel='linear')"
      ]
     },
     "execution_count": 22,
     "metadata": {},
     "output_type": "execute_result"
    }
   ],
   "source": [
    "# Initialize a Support Vector Machine (SVM) classifier using the linear kernel.\n",
    "svm_classifier = svm.SVC(kernel='linear')\n",
    "\n",
    "# Create a TF-IDF Vectorizer, which is necessary for converting words into numerical features as required by SVM.\n",
    "tfidf_vectorizer = TfidfVectorizer()\n",
    "\n",
    "# Transform the training data into TF-IDF vectors.\n",
    "X_train_tfidf = tfidf_vectorizer.fit_transform(X_train)\n",
    "\n",
    "# Transform the test data into TF-IDF vectors.\n",
    "X_test_tfidf = tfidf_vectorizer.transform(X_test)\n",
    "\n",
    "# Apply the training data to educate the SVM model, enabling it to accurately classify future inputs.\n",
    "svm_classifier.fit(X_train_tfidf, y_train)\n"
   ]
  },
  {
   "cell_type": "code",
   "execution_count": 23,
   "id": "6253f2b1",
   "metadata": {},
   "outputs": [],
   "source": [
    "# Use the trained model to categorize sentiment for each piece of test data.\n",
    "prediction_y = svm_classifier.predict(X_test_tfidf)"
   ]
  },
  {
   "cell_type": "code",
   "execution_count": 24,
   "id": "afee482b",
   "metadata": {},
   "outputs": [
    {
     "name": "stdout",
     "output_type": "stream",
     "text": [
      "The porcentage of the Model Accuracy is : 90.18%\n"
     ]
    }
   ],
   "source": [
    "# Assess the model's learning and generalization using the accuracy metric derived from test data.\n",
    "from sklearn.metrics import accuracy_score\n",
    "\n",
    "# Calculate the accuracy of the model by comparing y_test and prediction_y\n",
    "accuracy = accuracy_score(y_test, prediction_y)\n",
    "\n",
    "# Print the accuracy percentage\n",
    "\n",
    "print('The porcentage of the Model Accuracy is : {:.2f}%'.format(accuracy * 100))\n"
   ]
  },
  {
   "cell_type": "code",
   "execution_count": 25,
   "id": "79005de9",
   "metadata": {},
   "outputs": [
    {
     "data": {
      "image/png": "[encoded data removed]",
      "text/plain": [
       "<Figure size 1000x700 with 2 Axes>"
      ]
     },
     "metadata": {},
     "output_type": "display_data"
    }
   ],
   "source": [
    "\n",
    "# Import the required libraries for generating a confusion matrix\n",
    "from sklearn.metrics import confusion_matrix\n",
    "import matplotlib.pyplot as plt\n",
    "import seaborn as sns\n",
    "\n",
    "# Compute the confusion matrix\n",
    "confusion_matrix_result = confusion_matrix(y_test, prediction_y)\n",
    "\n",
    "# Visualize the confusion matrix\n",
    "plt.figure(figsize=(10, 7))\n",
    "sns.heatmap(confusion_matrix_result, annot=True, fmt='d')\n",
    "plt.xlabel('Predicted Labels')\n",
    "plt.ylabel('True Labels')\n",
    "plt.title('Confusion Matrix')\n",
    "plt.show()\n"
   ]
  },
  {
   "cell_type": "markdown",
   "id": "024dcfed",
   "metadata": {},
   "source": [
    "### Analysis of the Confusion Matrix: \n",
    "The confusion matrix shows a relatively balanced number of false positives and false negatives, which is a positive sign that the model doesn't have a strong bias towards one class over the other."
   ]
  },
  {
   "cell_type": "code",
   "execution_count": 26,
   "id": "14fa3c75",
   "metadata": {},
   "outputs": [],
   "source": [
    "# Calculate the precision score for the positive class\n",
    "precision = precision_score(y_test, prediction_y, pos_label='pos')\n",
    "\n",
    "# Compute the recall score for the positive class\n",
    "recall = recall_score(y_test, prediction_y, pos_label='pos')\n",
    "\n",
    "# Calculate the F2 score using precision and recall\n",
    "f2_score = fbeta_score(y_test, prediction_y,beta=2, pos_label='pos')\n"
   ]
  },
  {
   "cell_type": "code",
   "execution_count": 27,
   "id": "8dadb85c",
   "metadata": {},
   "outputs": [
    {
     "name": "stdout",
     "output_type": "stream",
     "text": [
      "===Support Vector Machine Evaluation Metrics===\n",
      "The porcentage of the Recall is : 91.36%\n",
      "The porcentage of the Precision is :89.57%\n",
      "The porcentage of the F2-Score is : 91.00%\n"
     ]
    }
   ],
   "source": [
    "print(\"===Support Vector Machine Evaluation Metrics===\")\n",
    "print('The porcentage of the Recall is : {:.2f}%'.format(recall * 100))\n",
    "print('The porcentage of the Precision is :{:.2f}%'.format(precision * 100))\n",
    "print('The porcentage of the F2-Score is : {:.2f}%'.format(f2_score * 100))"
   ]
  },
  {
   "cell_type": "markdown",
   "id": "c7d54c1e",
   "metadata": {},
   "source": [
    "## Conclusion\n",
    "\n",
    "### Model Performance:\n",
    " With an accuracy of 89%, the model demonstrates a high level of correctness in its predictions, which is commendable for a text classification task. The precision of 87.9% means that when the model predicts a particular class, it is correct around 88% of the time. A recall of 90.6% indicates that the model is able to identify 90.6% of all relevant instances correctly. The F2-score, which balances precision and recall and gives more weight to recall, is at 90.1%, suggesting a good balance particularly when missing a positive instance is costly.\n",
    "\n",
    "### Model Strengths:\n",
    "The high values across all metrics suggest that the feature extraction and the model's learning algorithm have effectively captured the patterns in the dataset. The model appears to generalize well and makes predictions with good confidence.\n",
    "\n",
    "### Areas for Improvement:\n",
    "There is always room for improvement, even with a good model. Given that precision is slightly lower than recall, efforts could be made to reduce the false positive rate, perhaps by further tuning the model's decision threshold or by enhancing feature selection. Investigating the false positives and false negatives in more detail could provide insights into specific areas where the model may be struggling.\n",
    "\n",
    "### Practical Implications: \n",
    "The robust performance of the model suggests it could be a valuable tool in practical applications. However, the specific use case dictates the acceptability of the error rates. For example, in sensitive areas such as healthcare or finance, even a small percentage of errors could have significant consequences, and further improvements might be necessary.\n",
    "\n",
    "### Next Steps:\n",
    "To improve the model, consider experimenting with different classification algorithms, feature selection methods, or even ensemble techniques to boost performance. Additionally, exploring more complex NLP features like word embeddings or context-aware models could provide performance gains.\n",
    "\n"
   ]
  },
  {
   "cell_type": "markdown",
   "id": "32ae9eea",
   "metadata": {},
   "source": [
    "In conclusion, the text classifier model exhibits strong performance, indicating it's a well-constructed model suitable for the task at hand. While it shows good predictive power, like all models, it is not perfect and there is potential to enhance its precision and reduce error rates through further refinement and testing."
   ]
  }
 ],
 "metadata": {
  "kernelspec": {
   "display_name": "Python 3 (ipykernel)",
   "language": "python",
   "name": "python3"
  },
  "language_info": {
   "codemirror_mode": {
    "name": "ipython",
    "version": 3
   },
   "file_extension": ".py",
   "mimetype": "text/x-python",
   "name": "python",
   "nbconvert_exporter": "python",
   "pygments_lexer": "ipython3",
   "version": "3.11.7"
  }
 },
 "nbformat": 4,
 "nbformat_minor": 5
}
